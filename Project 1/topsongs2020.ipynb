{
 "cells": [
  {
   "cell_type": "code",
   "execution_count": 1,
   "metadata": {},
   "outputs": [
    {
     "name": "stdout",
     "output_type": "stream",
     "text": [
      "Libertad 548\n",
      "Gotti (Original Motion Picture Soundtrack)\n",
      "Sunbeam (feat. Pitbull)\n",
      "Sparks Fly (feat. Pitbull)\n",
      "Climate Change\n",
      "Climate Change\n",
      "Dale\n",
      "Dale\n",
      "Dale\n",
      "Globalization\n",
      "Globalization\n",
      "Globalization\n",
      "Global Warming: Meltdown (Deluxe Version)\n",
      "Global Warming\n",
      "Global Warming\n",
      "Global Warming (Deluxe Version)\n",
      "Global Warming (Deluxe Version)\n",
      "Global Warming (Deluxe Version)\n",
      "Global Warming (Deluxe Version)\n",
      "Global Warming\n",
      "Global Warming (Deluxe Version)\n",
      "Global Warming (Deluxe Version)\n",
      "I Am Armando - Armando Reloaded\n",
      "Global Warming: Meltdown\n",
      "Global Warming: Meltdown (Deluxe Version)\n",
      "Global Warming: Meltdown (Deluxe Version)\n",
      "Armando\n",
      "Planet Pit\n",
      "Planet Pit\n",
      "Planet Pit\n",
      "Planet Pit\n",
      "Planet Pit (Deluxe Version)\n",
      "Planet Pit (Deluxe Version)\n",
      "Armando (Deluxe Version)\n",
      "Armando\n",
      "Pitbull Starring In Rebelution\n",
      "Pitbull Starring In Rebelution\n",
      "Pitbull Starring In Rebelution\n",
      "Pitbull Starring In Rebelution\n",
      "The Boatlift\n",
      "The Boatlift\n",
      "The Boatlift - Clean\n",
      "El Mariel\n",
      "El Mariel - Clean\n",
      "Money Is Still A Major Issue\n",
      "Money Is Still A Major Issue - Clean\n",
      "Money Is Still A Major Issue\n",
      "M.I.A.M.I.\n",
      "M.I.A.M.I. - Clean\n"
     ]
    }
   ],
   "source": [
    "import spotipy\n",
    "from spotipy.oauth2 import SpotifyClientCredentials\n",
    "SPOTIPY_CLIENT_ID = \"edae40baaad84f0ea5e0769d795a8948\"\n",
    "SPOTIPY_CLIENT_SECRET = \"285fff7ac8b84252af15c1dfae13e109\"\n",
    "pitbull_uri = \"spotify:artist:0TnOYISbd1XYRBk9myaseg\"\n",
    "spotify = spotipy.Spotify(client_credentials_manager=SpotifyClientCredentials(client_id =SPOTIPY_CLIENT_ID, client_secret = SPOTIPY_CLIENT_SECRET ))\n",
    "results = spotify.artist_albums(pitbull_uri, album_type=\"album\")\n",
    "albums = results[\"items\"]\n",
    "while results[\"next\"]:\n",
    "   results = spotify.next(results)\n",
    "   albums.extend(results[\"items\"])\n",
    "for album in albums:\n",
    "   print(album[\"name\"])"
   ]
  },
  {
   "cell_type": "code",
   "execution_count": 2,
   "metadata": {},
   "outputs": [
    {
     "data": {
      "text/html": [
       "<div>\n",
       "<style scoped>\n",
       "    .dataframe tbody tr th:only-of-type {\n",
       "        vertical-align: middle;\n",
       "    }\n",
       "\n",
       "    .dataframe tbody tr th {\n",
       "        vertical-align: top;\n",
       "    }\n",
       "\n",
       "    .dataframe thead th {\n",
       "        text-align: right;\n",
       "    }\n",
       "</style>\n",
       "<table border=\"1\" class=\"dataframe\">\n",
       "  <thead>\n",
       "    <tr style=\"text-align: right;\">\n",
       "      <th></th>\n",
       "      <th>acousticness</th>\n",
       "      <th>artists</th>\n",
       "      <th>danceability</th>\n",
       "      <th>duration_ms</th>\n",
       "      <th>energy</th>\n",
       "      <th>explicit</th>\n",
       "      <th>id</th>\n",
       "      <th>instrumentalness</th>\n",
       "      <th>key</th>\n",
       "      <th>liveness</th>\n",
       "      <th>loudness</th>\n",
       "      <th>mode</th>\n",
       "      <th>name</th>\n",
       "      <th>popularity</th>\n",
       "      <th>release_date</th>\n",
       "      <th>speechiness</th>\n",
       "      <th>tempo</th>\n",
       "      <th>valence</th>\n",
       "      <th>year</th>\n",
       "    </tr>\n",
       "  </thead>\n",
       "  <tbody>\n",
       "    <tr>\n",
       "      <th>0</th>\n",
       "      <td>0.221</td>\n",
       "      <td>['24kGoldn', 'iann dior']</td>\n",
       "      <td>0.700</td>\n",
       "      <td>140526.0</td>\n",
       "      <td>0.722</td>\n",
       "      <td>1.0</td>\n",
       "      <td>3tjFYV6RSFtuktYl3ZtYcq</td>\n",
       "      <td>0.000000</td>\n",
       "      <td>7.0</td>\n",
       "      <td>0.2720</td>\n",
       "      <td>-3.558</td>\n",
       "      <td>0.0</td>\n",
       "      <td>Mood (feat. iann dior)</td>\n",
       "      <td>96.0</td>\n",
       "      <td>7/24/20</td>\n",
       "      <td>0.0369</td>\n",
       "      <td>90.989</td>\n",
       "      <td>0.756</td>\n",
       "      <td>2020.0</td>\n",
       "    </tr>\n",
       "    <tr>\n",
       "      <th>1</th>\n",
       "      <td>0.468</td>\n",
       "      <td>['Ariana Grande']</td>\n",
       "      <td>0.737</td>\n",
       "      <td>172325.0</td>\n",
       "      <td>0.802</td>\n",
       "      <td>1.0</td>\n",
       "      <td>35mvY5S1H3J2QZyna3TFe0</td>\n",
       "      <td>0.000000</td>\n",
       "      <td>0.0</td>\n",
       "      <td>0.0931</td>\n",
       "      <td>-4.771</td>\n",
       "      <td>1.0</td>\n",
       "      <td>positions</td>\n",
       "      <td>96.0</td>\n",
       "      <td>10/30/20</td>\n",
       "      <td>0.0878</td>\n",
       "      <td>144.015</td>\n",
       "      <td>0.682</td>\n",
       "      <td>2020.0</td>\n",
       "    </tr>\n",
       "    <tr>\n",
       "      <th>2</th>\n",
       "      <td>0.401</td>\n",
       "      <td>['Bad Bunny', 'Jhay Cortez']</td>\n",
       "      <td>0.731</td>\n",
       "      <td>205090.0</td>\n",
       "      <td>0.573</td>\n",
       "      <td>1.0</td>\n",
       "      <td>47EiUVwUp4C9fGccaPuUCS</td>\n",
       "      <td>0.000052</td>\n",
       "      <td>4.0</td>\n",
       "      <td>0.1130</td>\n",
       "      <td>-10.059</td>\n",
       "      <td>0.0</td>\n",
       "      <td>DÁKITI</td>\n",
       "      <td>95.0</td>\n",
       "      <td>10/30/20</td>\n",
       "      <td>0.0544</td>\n",
       "      <td>109.928</td>\n",
       "      <td>0.145</td>\n",
       "      <td>2020.0</td>\n",
       "    </tr>\n",
       "    <tr>\n",
       "      <th>3</th>\n",
       "      <td>0.212</td>\n",
       "      <td>['KAROL G']</td>\n",
       "      <td>0.863</td>\n",
       "      <td>178947.0</td>\n",
       "      <td>0.666</td>\n",
       "      <td>1.0</td>\n",
       "      <td>7vrJn5hDSXRmdXoR30KgF1</td>\n",
       "      <td>0.000493</td>\n",
       "      <td>1.0</td>\n",
       "      <td>0.1030</td>\n",
       "      <td>-4.158</td>\n",
       "      <td>0.0</td>\n",
       "      <td>BICHOTA</td>\n",
       "      <td>95.0</td>\n",
       "      <td>10/23/20</td>\n",
       "      <td>0.1520</td>\n",
       "      <td>163.908</td>\n",
       "      <td>0.838</td>\n",
       "      <td>2020.0</td>\n",
       "    </tr>\n",
       "    <tr>\n",
       "      <th>4</th>\n",
       "      <td>0.237</td>\n",
       "      <td>['Ariana Grande']</td>\n",
       "      <td>0.830</td>\n",
       "      <td>173711.0</td>\n",
       "      <td>0.585</td>\n",
       "      <td>1.0</td>\n",
       "      <td>6Im9k8u9iIzKMrmV7BWtlF</td>\n",
       "      <td>0.000000</td>\n",
       "      <td>0.0</td>\n",
       "      <td>0.2480</td>\n",
       "      <td>-6.476</td>\n",
       "      <td>1.0</td>\n",
       "      <td>34+35</td>\n",
       "      <td>94.0</td>\n",
       "      <td>10/30/20</td>\n",
       "      <td>0.0940</td>\n",
       "      <td>109.978</td>\n",
       "      <td>0.485</td>\n",
       "      <td>2020.0</td>\n",
       "    </tr>\n",
       "  </tbody>\n",
       "</table>\n",
       "</div>"
      ],
      "text/plain": [
       "   acousticness                       artists  danceability  duration_ms  \\\n",
       "0         0.221     ['24kGoldn', 'iann dior']         0.700     140526.0   \n",
       "1         0.468             ['Ariana Grande']         0.737     172325.0   \n",
       "2         0.401  ['Bad Bunny', 'Jhay Cortez']         0.731     205090.0   \n",
       "3         0.212                   ['KAROL G']         0.863     178947.0   \n",
       "4         0.237             ['Ariana Grande']         0.830     173711.0   \n",
       "\n",
       "   energy  explicit                      id  instrumentalness  key  liveness  \\\n",
       "0   0.722       1.0  3tjFYV6RSFtuktYl3ZtYcq          0.000000  7.0    0.2720   \n",
       "1   0.802       1.0  35mvY5S1H3J2QZyna3TFe0          0.000000  0.0    0.0931   \n",
       "2   0.573       1.0  47EiUVwUp4C9fGccaPuUCS          0.000052  4.0    0.1130   \n",
       "3   0.666       1.0  7vrJn5hDSXRmdXoR30KgF1          0.000493  1.0    0.1030   \n",
       "4   0.585       1.0  6Im9k8u9iIzKMrmV7BWtlF          0.000000  0.0    0.2480   \n",
       "\n",
       "   loudness  mode                    name  popularity release_date  \\\n",
       "0    -3.558   0.0  Mood (feat. iann dior)        96.0      7/24/20   \n",
       "1    -4.771   1.0               positions        96.0     10/30/20   \n",
       "2   -10.059   0.0                  DÁKITI        95.0     10/30/20   \n",
       "3    -4.158   0.0                 BICHOTA        95.0     10/23/20   \n",
       "4    -6.476   1.0                   34+35        94.0     10/30/20   \n",
       "\n",
       "   speechiness    tempo  valence    year  \n",
       "0       0.0369   90.989    0.756  2020.0  \n",
       "1       0.0878  144.015    0.682  2020.0  \n",
       "2       0.0544  109.928    0.145  2020.0  \n",
       "3       0.1520  163.908    0.838  2020.0  \n",
       "4       0.0940  109.978    0.485  2020.0  "
      ]
     },
     "execution_count": 2,
     "metadata": {},
     "output_type": "execute_result"
    }
   ],
   "source": [
    "#import files and dependencies\n",
    "import pandas as pd\n",
    "import matplotlib.pyplot as plt\n",
    "import numpy as np\n",
    "\n",
    "file = \"top2020.csv\"\n",
    "top_df = pd.read_csv(file)\n",
    "top_df.head()"
   ]
  },
  {
   "cell_type": "code",
   "execution_count": 3,
   "metadata": {},
   "outputs": [
    {
     "data": {
      "text/html": [
       "<div>\n",
       "<style scoped>\n",
       "    .dataframe tbody tr th:only-of-type {\n",
       "        vertical-align: middle;\n",
       "    }\n",
       "\n",
       "    .dataframe tbody tr th {\n",
       "        vertical-align: top;\n",
       "    }\n",
       "\n",
       "    .dataframe thead th {\n",
       "        text-align: right;\n",
       "    }\n",
       "</style>\n",
       "<table border=\"1\" class=\"dataframe\">\n",
       "  <thead>\n",
       "    <tr style=\"text-align: right;\">\n",
       "      <th></th>\n",
       "      <th>acousticness</th>\n",
       "      <th>artists</th>\n",
       "      <th>danceability</th>\n",
       "      <th>duration_ms</th>\n",
       "      <th>energy</th>\n",
       "      <th>explicit</th>\n",
       "      <th>id</th>\n",
       "      <th>instrumentalness</th>\n",
       "      <th>key</th>\n",
       "      <th>liveness</th>\n",
       "      <th>loudness</th>\n",
       "      <th>mode</th>\n",
       "      <th>name</th>\n",
       "      <th>popularity</th>\n",
       "      <th>release_date</th>\n",
       "      <th>speechiness</th>\n",
       "      <th>tempo</th>\n",
       "      <th>valence</th>\n",
       "      <th>year</th>\n",
       "    </tr>\n",
       "  </thead>\n",
       "  <tbody>\n",
       "    <tr>\n",
       "      <th>0</th>\n",
       "      <td>0.221</td>\n",
       "      <td>['24kGoldn', 'iann dior']</td>\n",
       "      <td>0.700</td>\n",
       "      <td>140526.0</td>\n",
       "      <td>0.722</td>\n",
       "      <td>1.0</td>\n",
       "      <td>3tjFYV6RSFtuktYl3ZtYcq</td>\n",
       "      <td>0.000000</td>\n",
       "      <td>7.0</td>\n",
       "      <td>0.2720</td>\n",
       "      <td>-3.558</td>\n",
       "      <td>0.0</td>\n",
       "      <td>Mood (feat. iann dior)</td>\n",
       "      <td>96.0</td>\n",
       "      <td>7/24/20</td>\n",
       "      <td>0.0369</td>\n",
       "      <td>90.989</td>\n",
       "      <td>0.756</td>\n",
       "      <td>2020.0</td>\n",
       "    </tr>\n",
       "    <tr>\n",
       "      <th>1</th>\n",
       "      <td>0.468</td>\n",
       "      <td>['Ariana Grande']</td>\n",
       "      <td>0.737</td>\n",
       "      <td>172325.0</td>\n",
       "      <td>0.802</td>\n",
       "      <td>1.0</td>\n",
       "      <td>35mvY5S1H3J2QZyna3TFe0</td>\n",
       "      <td>0.000000</td>\n",
       "      <td>0.0</td>\n",
       "      <td>0.0931</td>\n",
       "      <td>-4.771</td>\n",
       "      <td>1.0</td>\n",
       "      <td>positions</td>\n",
       "      <td>96.0</td>\n",
       "      <td>10/30/20</td>\n",
       "      <td>0.0878</td>\n",
       "      <td>144.015</td>\n",
       "      <td>0.682</td>\n",
       "      <td>2020.0</td>\n",
       "    </tr>\n",
       "    <tr>\n",
       "      <th>2</th>\n",
       "      <td>0.401</td>\n",
       "      <td>['Bad Bunny', 'Jhay Cortez']</td>\n",
       "      <td>0.731</td>\n",
       "      <td>205090.0</td>\n",
       "      <td>0.573</td>\n",
       "      <td>1.0</td>\n",
       "      <td>47EiUVwUp4C9fGccaPuUCS</td>\n",
       "      <td>0.000052</td>\n",
       "      <td>4.0</td>\n",
       "      <td>0.1130</td>\n",
       "      <td>-10.059</td>\n",
       "      <td>0.0</td>\n",
       "      <td>DÁKITI</td>\n",
       "      <td>95.0</td>\n",
       "      <td>10/30/20</td>\n",
       "      <td>0.0544</td>\n",
       "      <td>109.928</td>\n",
       "      <td>0.145</td>\n",
       "      <td>2020.0</td>\n",
       "    </tr>\n",
       "    <tr>\n",
       "      <th>3</th>\n",
       "      <td>0.212</td>\n",
       "      <td>['KAROL G']</td>\n",
       "      <td>0.863</td>\n",
       "      <td>178947.0</td>\n",
       "      <td>0.666</td>\n",
       "      <td>1.0</td>\n",
       "      <td>7vrJn5hDSXRmdXoR30KgF1</td>\n",
       "      <td>0.000493</td>\n",
       "      <td>1.0</td>\n",
       "      <td>0.1030</td>\n",
       "      <td>-4.158</td>\n",
       "      <td>0.0</td>\n",
       "      <td>BICHOTA</td>\n",
       "      <td>95.0</td>\n",
       "      <td>10/23/20</td>\n",
       "      <td>0.1520</td>\n",
       "      <td>163.908</td>\n",
       "      <td>0.838</td>\n",
       "      <td>2020.0</td>\n",
       "    </tr>\n",
       "    <tr>\n",
       "      <th>4</th>\n",
       "      <td>0.237</td>\n",
       "      <td>['Ariana Grande']</td>\n",
       "      <td>0.830</td>\n",
       "      <td>173711.0</td>\n",
       "      <td>0.585</td>\n",
       "      <td>1.0</td>\n",
       "      <td>6Im9k8u9iIzKMrmV7BWtlF</td>\n",
       "      <td>0.000000</td>\n",
       "      <td>0.0</td>\n",
       "      <td>0.2480</td>\n",
       "      <td>-6.476</td>\n",
       "      <td>1.0</td>\n",
       "      <td>34+35</td>\n",
       "      <td>94.0</td>\n",
       "      <td>10/30/20</td>\n",
       "      <td>0.0940</td>\n",
       "      <td>109.978</td>\n",
       "      <td>0.485</td>\n",
       "      <td>2020.0</td>\n",
       "    </tr>\n",
       "  </tbody>\n",
       "</table>\n",
       "</div>"
      ],
      "text/plain": [
       "   acousticness                       artists  danceability  duration_ms  \\\n",
       "0         0.221     ['24kGoldn', 'iann dior']         0.700     140526.0   \n",
       "1         0.468             ['Ariana Grande']         0.737     172325.0   \n",
       "2         0.401  ['Bad Bunny', 'Jhay Cortez']         0.731     205090.0   \n",
       "3         0.212                   ['KAROL G']         0.863     178947.0   \n",
       "4         0.237             ['Ariana Grande']         0.830     173711.0   \n",
       "\n",
       "   energy  explicit                      id  instrumentalness  key  liveness  \\\n",
       "0   0.722       1.0  3tjFYV6RSFtuktYl3ZtYcq          0.000000  7.0    0.2720   \n",
       "1   0.802       1.0  35mvY5S1H3J2QZyna3TFe0          0.000000  0.0    0.0931   \n",
       "2   0.573       1.0  47EiUVwUp4C9fGccaPuUCS          0.000052  4.0    0.1130   \n",
       "3   0.666       1.0  7vrJn5hDSXRmdXoR30KgF1          0.000493  1.0    0.1030   \n",
       "4   0.585       1.0  6Im9k8u9iIzKMrmV7BWtlF          0.000000  0.0    0.2480   \n",
       "\n",
       "   loudness  mode                    name  popularity release_date  \\\n",
       "0    -3.558   0.0  Mood (feat. iann dior)        96.0      7/24/20   \n",
       "1    -4.771   1.0               positions        96.0     10/30/20   \n",
       "2   -10.059   0.0                  DÁKITI        95.0     10/30/20   \n",
       "3    -4.158   0.0                 BICHOTA        95.0     10/23/20   \n",
       "4    -6.476   1.0                   34+35        94.0     10/30/20   \n",
       "\n",
       "   speechiness    tempo  valence    year  \n",
       "0       0.0369   90.989    0.756  2020.0  \n",
       "1       0.0878  144.015    0.682  2020.0  \n",
       "2       0.0544  109.928    0.145  2020.0  \n",
       "3       0.1520  163.908    0.838  2020.0  \n",
       "4       0.0940  109.978    0.485  2020.0  "
      ]
     },
     "execution_count": 3,
     "metadata": {},
     "output_type": "execute_result"
    }
   ],
   "source": [
    "#sort by popularity value\n",
    "top_df.sort_values('popularity', ascending = False, inplace = True)\n",
    "top_df.head()"
   ]
  },
  {
   "cell_type": "code",
   "execution_count": 4,
   "metadata": {},
   "outputs": [
    {
     "data": {
      "text/plain": [
       "acousticness        198\n",
       "artists             198\n",
       "danceability        198\n",
       "duration_ms         198\n",
       "energy              198\n",
       "explicit            198\n",
       "id                  198\n",
       "instrumentalness    198\n",
       "key                 198\n",
       "liveness            198\n",
       "loudness            198\n",
       "mode                198\n",
       "name                198\n",
       "popularity          198\n",
       "release_date        198\n",
       "speechiness         198\n",
       "tempo               198\n",
       "valence             198\n",
       "year                198\n",
       "dtype: int64"
      ]
     },
     "execution_count": 4,
     "metadata": {},
     "output_type": "execute_result"
    }
   ],
   "source": [
    "#examine data for missing value\n",
    "clean_df = top_df.dropna(how=\"any\")\n",
    "clean_df.count()"
   ]
  },
  {
   "cell_type": "code",
   "execution_count": 5,
   "metadata": {},
   "outputs": [
    {
     "data": {
      "text/html": [
       "<div>\n",
       "<style scoped>\n",
       "    .dataframe tbody tr th:only-of-type {\n",
       "        vertical-align: middle;\n",
       "    }\n",
       "\n",
       "    .dataframe tbody tr th {\n",
       "        vertical-align: top;\n",
       "    }\n",
       "\n",
       "    .dataframe thead th {\n",
       "        text-align: right;\n",
       "    }\n",
       "</style>\n",
       "<table border=\"1\" class=\"dataframe\">\n",
       "  <thead>\n",
       "    <tr style=\"text-align: right;\">\n",
       "      <th></th>\n",
       "      <th>Song Count</th>\n",
       "      <th>Percent</th>\n",
       "    </tr>\n",
       "  </thead>\n",
       "  <tbody>\n",
       "    <tr>\n",
       "      <th>81-84</th>\n",
       "      <td>96</td>\n",
       "      <td>48.48</td>\n",
       "    </tr>\n",
       "    <tr>\n",
       "      <th>85-89</th>\n",
       "      <td>64</td>\n",
       "      <td>32.32</td>\n",
       "    </tr>\n",
       "    <tr>\n",
       "      <th>90-94</th>\n",
       "      <td>34</td>\n",
       "      <td>17.17</td>\n",
       "    </tr>\n",
       "    <tr>\n",
       "      <th>95+</th>\n",
       "      <td>4</td>\n",
       "      <td>2.02</td>\n",
       "    </tr>\n",
       "  </tbody>\n",
       "</table>\n",
       "</div>"
      ],
      "text/plain": [
       "       Song Count  Percent\n",
       "81-84          96    48.48\n",
       "85-89          64    32.32\n",
       "90-94          34    17.17\n",
       "95+             4     2.02"
      ]
     },
     "execution_count": 5,
     "metadata": {},
     "output_type": "execute_result"
    }
   ],
   "source": [
    "#create popularity bins\n",
    "popularity_bins = [0, 84.9, 89.9, 94.5, 99.9]\n",
    "popularity_titles = [\"81-84\", \"85-89\", \"90-94\", \"95+\"]\n",
    "\n",
    "top_df[\"Popularity Ranges\"] = pd.cut(top_df[\"popularity\"], popularity_bins, labels = popularity_titles)\n",
    "\n",
    "pop_totals = top_df[\"Popularity Ranges\"].value_counts()\n",
    "pop_percents = pop_totals / 198 * 100\n",
    "\n",
    "pop_show = pd.DataFrame ({\"Song Count\": pop_totals, \"Percent\": pop_percents})\n",
    "\n",
    "pop_show = pop_show.round(2)\n",
    "\n",
    "pop_show.sort_index()"
   ]
  },
  {
   "cell_type": "code",
   "execution_count": 6,
   "metadata": {},
   "outputs": [
    {
     "data": {
      "text/plain": [
       "Text(0, 0.5, 'Count of Songs')"
      ]
     },
     "execution_count": 6,
     "metadata": {},
     "output_type": "execute_result"
    },
    {
     "data": {
      "image/png": "[encoded data removed]",
      "text/plain": [
       "<Figure size 432x288 with 1 Axes>"
      ]
     },
     "metadata": {
      "needs_background": "light"
     },
     "output_type": "display_data"
    }
   ],
   "source": [
    "plt.bar(popularity_titles, pop_totals, color=\"r\", alpha =0.5, align=\"center\")\n",
    "plt.title(\"Popularity Scores of Top Songs\")\n",
    "plt.xlabel(\"Popularity Value Range\")\n",
    "plt.ylabel(\"Count of Songs\")"
   ]
  },
  {
   "cell_type": "code",
   "execution_count": 7,
   "metadata": {},
   "outputs": [
    {
     "data": {
      "text/plain": [
       "<matplotlib.collections.PathCollection at 0x7fc081747af0>"
      ]
     },
     "execution_count": 7,
     "metadata": {},
     "output_type": "execute_result"
    },
    {
     "data": {
      "image/png": "[encoded data removed]",
      "text/plain": [
       "<Figure size 432x288 with 1 Axes>"
      ]
     },
     "metadata": {
      "needs_background": "light"
     },
     "output_type": "display_data"
    }
   ],
   "source": [
    "x_axis = top_df[\"danceability\"]\n",
    "y_axis = top_df[\"popularity\"]\n",
    "plt.scatter(x_axis, y_axis, marker=\"o\", facecolor =\"red\", edgecolors=\"black\")"
   ]
  },
  {
   "cell_type": "code",
   "execution_count": 8,
   "metadata": {},
   "outputs": [
    {
     "data": {
      "text/plain": [
       "Text(0, 0.5, 'Tempo in BPM')"
      ]
     },
     "execution_count": 8,
     "metadata": {},
     "output_type": "execute_result"
    },
    {
     "data": {
      "image/png": "[encoded data removed]",
      "text/plain": [
       "<Figure size 432x288 with 1 Axes>"
      ]
     },
     "metadata": {
      "needs_background": "light"
     },
     "output_type": "display_data"
    }
   ],
   "source": [
    "x_axis = top_df[\"danceability\"]\n",
    "y_axis = top_df[\"tempo\"]\n",
    "plt.scatter(x_axis, y_axis, marker=\"o\", facecolor =\"red\", edgecolors=\"black\")\n",
    "plt.title(\"Danceability vs Tempo\")\n",
    "plt.xlabel(\"Danceability Value\")\n",
    "plt.ylabel(\"Tempo in BPM\")"
   ]
  },
  {
   "cell_type": "code",
   "execution_count": 10,
   "metadata": {},
   "outputs": [
    {
     "data": {
      "text/plain": [
       "Text(0, 0.5, 'Liveness')"
      ]
     },
     "execution_count": 10,
     "metadata": {},
     "output_type": "execute_result"
    },
    {
     "data": {
      "image/png": "[encoded data removed]",
      "text/plain": [
       "<Figure size 432x288 with 1 Axes>"
      ]
     },
     "metadata": {
      "needs_background": "light"
     },
     "output_type": "display_data"
    }
   ],
   "source": [
    "x_axis = top_df[\"danceability\"]\n",
    "y_axis = top_df[\"liveness\"]\n",
    "plt.scatter(x_axis, y_axis, marker=\"o\", facecolor =\"red\", edgecolors=\"black\")\n",
    "plt.title(\"Danceability vs Liveness\")\n",
    "plt.xlabel(\"Danceability Value\")\n",
    "plt.ylabel(\"Liveness\")"
   ]
  },
  {
   "cell_type": "code",
   "execution_count": 12,
   "metadata": {},
   "outputs": [
    {
     "data": {
      "text/plain": [
       "<matplotlib.collections.PathCollection at 0x7fc082c6c100>"
      ]
     },
     "execution_count": 12,
     "metadata": {},
     "output_type": "execute_result"
    },
    {
     "data": {
      "image/png": "[encoded data removed]",
      "text/plain": [
       "<Figure size 432x288 with 1 Axes>"
      ]
     },
     "metadata": {
      "needs_background": "light"
     },
     "output_type": "display_data"
    }
   ],
   "source": [
    "x_axis = top_df[\"energy\"]\n",
    "y_axis = top_df[\"popularity\"]\n",
    "plt.scatter(x_axis, y_axis, marker=\"o\", facecolor =\"red\", edgecolors=\"black\")"
   ]
  },
  {
   "cell_type": "code",
   "execution_count": 15,
   "metadata": {},
   "outputs": [
    {
     "data": {
      "text/plain": [
       "Text(0, 0.5, 'Popularity')"
      ]
     },
     "execution_count": 15,
     "metadata": {},
     "output_type": "execute_result"
    },
    {
     "data": {
      "image/png": "[encoded data removed]",
      "text/plain": [
       "<Figure size 432x288 with 1 Axes>"
      ]
     },
     "metadata": {
      "needs_background": "light"
     },
     "output_type": "display_data"
    }
   ],
   "source": [
    "x_axis = top_df[\"duration_ms\"]\n",
    "y_axis = top_df[\"popularity\"]\n",
    "plt.scatter(x_axis, y_axis, marker=\"o\", facecolor =\"red\", edgecolors=\"black\")\n",
    "plt.title(\"Duration vs Popularity\")\n",
    "plt.xlabel(\"Duration in MS\")\n",
    "plt.ylabel(\"Popularity\")"
   ]
  },
  {
   "cell_type": "code",
   "execution_count": 22,
   "metadata": {},
   "outputs": [
    {
     "data": {
      "text/plain": [
       "0.0    99\n",
       "1.0    99\n",
       "Name: explicit, dtype: int64"
      ]
     },
     "execution_count": 22,
     "metadata": {},
     "output_type": "execute_result"
    }
   ],
   "source": [
    "top_df[\"explicit\"].value_counts()"
   ]
  },
  {
   "cell_type": "code",
   "execution_count": 34,
   "metadata": {},
   "outputs": [
    {
     "data": {
      "text/plain": [
       "Text(0.5, 1.0, 'Percent of Explicit Songs')"
      ]
     },
     "execution_count": 34,
     "metadata": {},
     "output_type": "execute_result"
    },
    {
     "data": {
      "image/png": "[encoded data removed]",
      "text/plain": [
       "<Figure size 432x288 with 1 Axes>"
      ]
     },
     "metadata": {},
     "output_type": "display_data"
    }
   ],
   "source": [
    "labels = [\"Explicit\", \"Not Explicit 'clean'\"]\n",
    "\n",
    "songs = [99, 99]\n",
    "\n",
    "colors = [\"red\", \"lightblue\"]\n",
    "\n",
    "explode = (0, 0)\n",
    "plt.pie(songs, explode=explode, labels=labels, colors=colors,\n",
    "        autopct=\"%1.1f%%\", shadow=True, startangle=90)\n",
    "plt.title(\"Percent of Explicit Songs\")"
   ]
  },
  {
   "cell_type": "code",
   "execution_count": null,
   "metadata": {},
   "outputs": [],
   "source": []
  }
 ],
 "metadata": {
  "kernelspec": {
   "display_name": "Python 3",
   "language": "python",
   "name": "python3"
  },
  "language_info": {
   "codemirror_mode": {
    "name": "ipython",
    "version": 3
   },
   "file_extension": ".py",
   "mimetype": "text/x-python",
   "name": "python",
   "nbconvert_exporter": "python",
   "pygments_lexer": "ipython3",
   "version": "3.8.5"
  }
 },
 "nbformat": 4,
 "nbformat_minor": 4
}
